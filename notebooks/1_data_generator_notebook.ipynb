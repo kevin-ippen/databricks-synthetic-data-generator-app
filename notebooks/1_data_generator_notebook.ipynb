{
 "cells": [
  {
   "cell_type": "code",
   "execution_count": 0,
   "metadata": {
    "application/vnd.databricks.v1+cell": {
     "cellMetadata": {
      "byteLimit": 2048000,
      "rowLimit": 10000
     },
     "inputWidgets": {},
     "nuid": "a0f36fc8-3fa0-47d9-a4f5-51f9a222e65f",
     "showTitle": false,
     "tableResultSettingsMap": {},
     "title": ""
    }
   },
   "outputs": [],
   "source": [
    "# Databricks notebook source\n",
    "# Databricks notebook\n",
    "import json  # ADD THIS MISSING IMPORT\n",
    "from faker import Faker\n",
    "from pyspark.sql import SparkSession\n",
    "from pyspark.sql.types import *\n",
    "from datetime import datetime, timedelta\n",
    "import random\n",
    "\n",
    "spark = SparkSession.builder.getOrCreate()\n",
    "fake = Faker()\n",
    "\n",
    "def generate_synthetic_data(spark, catalog, schema, table_name, columns, row_count=1000, mode=\"overwrite\"):\n",
    "    # Build schema\n",
    "    fields = []\n",
    "    for col in columns:\n",
    "        if col[\"type\"] == \"string\":\n",
    "            fields.append(StructField(col[\"name\"], StringType(), True))\n",
    "        elif col[\"type\"] == \"integer\":\n",
    "            fields.append(StructField(col[\"name\"], IntegerType(), True))\n",
    "        elif col[\"type\"] == \"float\":\n",
    "            fields.append(StructField(col[\"name\"], DoubleType(), True))\n",
    "        elif col[\"type\"] == \"date\":\n",
    "            fields.append(StructField(col[\"name\"], DateType(), True))\n",
    "        elif col[\"type\"] == \"timestamp\":\n",
    "            fields.append(StructField(col[\"name\"], TimestampType(), True))\n",
    "        else:\n",
    "            raise ValueError(f\"Unsupported data type: {col['type']}\")\n",
    "\n",
    "    schema_def = StructType(fields)\n",
    "\n",
    "    # Generate synthetic rows\n",
    "    def row_gen(_):\n",
    "        row = []\n",
    "        for col in columns:\n",
    "            if col[\"type\"] == \"string\":\n",
    "                row.append(fake.word())\n",
    "            elif col[\"type\"] == \"integer\":\n",
    "                row.append(random.randint(0, 10000))\n",
    "            elif col[\"type\"] == \"float\":\n",
    "                row.append(round(random.uniform(0, 10000), 2))\n",
    "            elif col[\"type\"] == \"date\":\n",
    "                row.append(fake.date_between(start_date=\"-1y\", end_date=\"today\"))\n",
    "            elif col[\"type\"] == \"timestamp\":\n",
    "                row.append(datetime.now() - timedelta(days=random.randint(0, 365)))\n",
    "        return tuple(row)\n",
    "\n",
    "    rdd = spark.sparkContext.parallelize([row_gen(i) for i in range(row_count)])\n",
    "    df = spark.createDataFrame(rdd, schema_def)\n",
    "\n",
    "    full_name = f\"{catalog}.{schema}.{table_name}\"\n",
    "    \n",
    "    # Ensure catalog and schema exist\n",
    "    spark.sql(f\"CREATE CATALOG IF NOT EXISTS {catalog}\")\n",
    "    spark.sql(f\"CREATE SCHEMA IF NOT EXISTS {catalog}.{schema}\")\n",
    "    \n",
    "    (\n",
    "        df.write\n",
    "          .format(\"delta\")\n",
    "          .mode(mode)\n",
    "          .saveAsTable(full_name)\n",
    "    )\n",
    "\n",
    "    return full_name"
   ]
  },
  {
   "cell_type": "code",
   "execution_count": 0,
   "metadata": {
    "application/vnd.databricks.v1+cell": {
     "cellMetadata": {
      "byteLimit": 2048000,
      "rowLimit": 10000
     },
     "inputWidgets": {},
     "nuid": "201062a4-7b0f-4159-b8ef-18226ac19851",
     "showTitle": false,
     "tableResultSettingsMap": {},
     "title": ""
    }
   },
   "outputs": [],
   "source": [
    "# Databricks notebook: data_generator_notebook.py\n",
    "\n",
    "dbutils.widgets.text(\"catalog\", \"\")\n",
    "dbutils.widgets.text(\"schema\", \"\")\n",
    "dbutils.widgets.text(\"table_name\", \"\")\n",
    "dbutils.widgets.text(\"columns\", \"\")\n",
    "dbutils.widgets.text(\"row_count\", \"1000\")\n",
    "\n",
    "catalog = dbutils.widgets.get(\"catalog\")\n",
    "schema = dbutils.widgets.get(\"schema\")\n",
    "table_name = dbutils.widgets.get(\"table_name\")\n",
    "columns = json.loads(dbutils.widgets.get(\"columns\"))  # Now json is imported\n",
    "row_count = int(dbutils.widgets.get(\"row_count\"))\n",
    "\n",
    "table_path = generate_synthetic_data(\n",
    "    spark, catalog, schema, table_name, columns, row_count=row_count\n",
    ")\n",
    "\n",
    "dbutils.notebook.exit(table_path)"
   ]
  }
 ],
 "metadata": {
  "application/vnd.databricks.v1+notebook": {
   "computePreferences": null,
   "dashboards": [],
   "environmentMetadata": {
    "base_environment": "dbe_65bc13ea-276c-4905-a728-9fe2fb1780e2",
    "environment_version": "2"
   },
   "inputWidgetPreferences": null,
   "language": "python",
   "notebookMetadata": {
    "pythonIndentUnit": 2
   },
   "notebookName": "1_data_generator_notebook",
   "widgets": {
    "catalog": {
     "currentValue": "",
     "nuid": "6763104c-c60d-4be9-8f67-b99de6574538",
     "typedWidgetInfo": {
      "autoCreated": false,
      "defaultValue": "",
      "label": null,
      "name": "catalog",
      "options": {
       "widgetDisplayType": "Text",
       "validationRegex": null
      },
      "parameterDataType": "String"
     },
     "widgetInfo": {
      "widgetType": "text",
      "defaultValue": "",
      "label": null,
      "name": "catalog",
      "options": {
       "widgetType": "text",
       "autoCreated": false,
       "validationRegex": null
      }
     }
    },
    "columns": {
     "currentValue": "",
     "nuid": "b8f04781-6040-4229-b056-12bf9acaf133",
     "typedWidgetInfo": {
      "autoCreated": false,
      "defaultValue": "",
      "label": null,
      "name": "columns",
      "options": {
       "widgetDisplayType": "Text",
       "validationRegex": null
      },
      "parameterDataType": "String"
     },
     "widgetInfo": {
      "widgetType": "text",
      "defaultValue": "",
      "label": null,
      "name": "columns",
      "options": {
       "widgetType": "text",
       "autoCreated": false,
       "validationRegex": null
      }
     }
    },
    "row_count": {
     "currentValue": "1000",
     "nuid": "a7fe1f3d-6fc9-4e32-9ea7-83ef7fd4bc6f",
     "typedWidgetInfo": {
      "autoCreated": false,
      "defaultValue": "1000",
      "label": null,
      "name": "row_count",
      "options": {
       "widgetDisplayType": "Text",
       "validationRegex": null
      },
      "parameterDataType": "String"
     },
     "widgetInfo": {
      "widgetType": "text",
      "defaultValue": "1000",
      "label": null,
      "name": "row_count",
      "options": {
       "widgetType": "text",
       "autoCreated": false,
       "validationRegex": null
      }
     }
    },
    "schema": {
     "currentValue": "",
     "nuid": "01039b4e-07ec-406b-96da-51a0bebbd32a",
     "typedWidgetInfo": {
      "autoCreated": false,
      "defaultValue": "",
      "label": null,
      "name": "schema",
      "options": {
       "widgetDisplayType": "Text",
       "validationRegex": null
      },
      "parameterDataType": "String"
     },
     "widgetInfo": {
      "widgetType": "text",
      "defaultValue": "",
      "label": null,
      "name": "schema",
      "options": {
       "widgetType": "text",
       "autoCreated": false,
       "validationRegex": null
      }
     }
    },
    "table_name": {
     "currentValue": "",
     "nuid": "1cd68c75-63e2-463c-91d5-b52d4dcf7f37",
     "typedWidgetInfo": {
      "autoCreated": false,
      "defaultValue": "",
      "label": null,
      "name": "table_name",
      "options": {
       "widgetDisplayType": "Text",
       "validationRegex": null
      },
      "parameterDataType": "String"
     },
     "widgetInfo": {
      "widgetType": "text",
      "defaultValue": "",
      "label": null,
      "name": "table_name",
      "options": {
       "widgetType": "text",
       "autoCreated": false,
       "validationRegex": null
      }
     }
    }
   }
  },
  "language_info": {
   "name": "python"
  }
 },
 "nbformat": 4,
 "nbformat_minor": 0
}
